{
 "cells": [
  {
   "cell_type": "markdown",
   "metadata": {},
   "source": [
    "## Métodos numéricos Tarea 10\n",
    "\n",
    "[Enlace a repositorio](https://github.com/Bidobelemti/M-todos-num-ricos/tree/main)\n"
   ]
  },
  {
   "cell_type": "markdown",
   "metadata": {},
   "source": [
    "1. Realice las siguientes multiplicaciones matriz - matriz"
   ]
  },
  {
   "cell_type": "code",
   "execution_count": 5,
   "metadata": {},
   "outputs": [
    {
     "data": {
      "text/plain": [
       "array([[-4, 10],\n",
       "       [ 1, 15]])"
      ]
     },
     "execution_count": 5,
     "metadata": {},
     "output_type": "execute_result"
    }
   ],
   "source": [
    "import numpy as np\n",
    "A = [\n",
    "    [2,-3],\n",
    "    [3,-1]]\n",
    "B = [\n",
    "    [1,5],\n",
    "    [2,0]]\n",
    "np.dot(np.array(A), np.array(B))"
   ]
  },
  {
   "cell_type": "code",
   "execution_count": 7,
   "metadata": {},
   "outputs": [
    {
     "data": {
      "text/plain": [
       "array([[ 11,   4,  -8],\n",
       "       [  6,  13, -12]])"
      ]
     },
     "execution_count": 7,
     "metadata": {},
     "output_type": "execute_result"
    }
   ],
   "source": [
    "A1 = [\n",
    "    [2,-3],\n",
    "    [3,-1]\n",
    "]\n",
    "\n",
    "B1 = [\n",
    "    [1,5,-4],\n",
    "    [-3,2,0]\n",
    "]\n",
    "np.dot(np.array(A1), np.array(B1))"
   ]
  },
  {
   "cell_type": "code",
   "execution_count": 8,
   "metadata": {},
   "outputs": [
    {
     "data": {
      "text/plain": [
       "array([[ -1,   5,  -3],\n",
       "       [  3,   4, -11],\n",
       "       [ -6,  -7,  -4]])"
      ]
     },
     "execution_count": 8,
     "metadata": {},
     "output_type": "execute_result"
    }
   ],
   "source": [
    "A2 = [\n",
    "    [2,-3,1],\n",
    "    [4,3,0],\n",
    "    [5,2,-4]\n",
    "]\n",
    "\n",
    "B2 = [\n",
    "    [0,1,-2],\n",
    "    [1,0,-1],\n",
    "    [2,3,-2]\n",
    "]\n",
    "np.dot(np.array(A2), np.array(B2))"
   ]
  },
  {
   "cell_type": "code",
   "execution_count": 9,
   "metadata": {},
   "outputs": [
    {
     "data": {
      "text/plain": [
       "array([[ -2,   1],\n",
       "       [-14,   7],\n",
       "       [  6,   1]])"
      ]
     },
     "execution_count": 9,
     "metadata": {},
     "output_type": "execute_result"
    }
   ],
   "source": [
    "A3 = [\n",
    "    [2,1,2],\n",
    "    [-2,3,0],\n",
    "    [2,-1,3]\n",
    "]\n",
    "\n",
    "B3 = [\n",
    "    [1,-2],\n",
    "    [-4,1],\n",
    "    [0,2]\n",
    "]\n",
    "np.dot(np.array(A3), np.array(B3))"
   ]
  },
  {
   "cell_type": "markdown",
   "metadata": {},
   "source": [
    "2. Determine cualés de las siguientes matrices son no singulares y calcule la inversa de esas matrices."
   ]
  },
  {
   "cell_type": "code",
   "execution_count": 10,
   "metadata": {},
   "outputs": [
    {
     "ename": "ValueError",
     "evalue": "No existe solución única.",
     "output_type": "error",
     "traceback": [
      "\u001b[1;31m---------------------------------------------------------------------------\u001b[0m",
      "\u001b[1;31mValueError\u001b[0m                                Traceback (most recent call last)",
      "Cell \u001b[1;32mIn[10], line 10\u001b[0m\n\u001b[0;32m      2\u001b[0m \u001b[38;5;28;01mfrom\u001b[39;00m \u001b[38;5;21;01msrc\u001b[39;00m \u001b[38;5;28;01mimport\u001b[39;00m calc_determinante\n\u001b[0;32m      4\u001b[0m A \u001b[38;5;241m=\u001b[39m [\n\u001b[0;32m      5\u001b[0m     [\u001b[38;5;241m4\u001b[39m,\u001b[38;5;241m2\u001b[39m,\u001b[38;5;241m6\u001b[39m],\n\u001b[0;32m      6\u001b[0m     [\u001b[38;5;241m3\u001b[39m,\u001b[38;5;241m0\u001b[39m,\u001b[38;5;241m7\u001b[39m],\n\u001b[0;32m      7\u001b[0m     [\u001b[38;5;241m-\u001b[39m\u001b[38;5;241m2\u001b[39m,\u001b[38;5;241m-\u001b[39m\u001b[38;5;241m1\u001b[39m,\u001b[38;5;241m-\u001b[39m\u001b[38;5;241m3\u001b[39m]\n\u001b[0;32m      8\u001b[0m ]\n\u001b[1;32m---> 10\u001b[0m \u001b[43mcalc_determinante\u001b[49m\u001b[43m(\u001b[49m\u001b[43mA\u001b[49m\u001b[43m)\u001b[49m\n",
      "File \u001b[1;32mc:\\Users\\mauri\\OneDrive\\Documentos\\Universidad\\2024a\\Metodos\\metodos git\\M-todos-num-ricos\\Tarea10_MN\\src\\funciones.py:160\u001b[0m, in \u001b[0;36mcalc_determinante\u001b[1;34m(A)\u001b[0m\n\u001b[0;32m    149\u001b[0m \u001b[38;5;250m\u001b[39m\u001b[38;5;124;03m\"\"\"Función que calcula el determinante usando el método\u001b[39;00m\n\u001b[0;32m    150\u001b[0m \u001b[38;5;124;03m[Descomposición LU, eliminación gaussiana, Gauss-Jordan, Gauss-Jacobi o Gauss-Seidel]\u001b[39;00m\n\u001b[0;32m    151\u001b[0m \n\u001b[1;32m   (...)\u001b[0m\n\u001b[0;32m    157\u001b[0m \n\u001b[0;32m    158\u001b[0m \u001b[38;5;124;03m\"\"\"\u001b[39;00m\n\u001b[0;32m    159\u001b[0m     \u001b[38;5;66;03m# Descomposición LU\u001b[39;00m\n\u001b[1;32m--> 160\u001b[0m L, U \u001b[38;5;241m=\u001b[39m \u001b[43mdescomposicion_LU\u001b[49m\u001b[43m(\u001b[49m\u001b[43mA\u001b[49m\u001b[43m)\u001b[49m\n\u001b[0;32m    162\u001b[0m \u001b[38;5;66;03m# El determinante es el producto de los elementos diagonales de U\u001b[39;00m\n\u001b[0;32m    163\u001b[0m det_U \u001b[38;5;241m=\u001b[39m \u001b[38;5;241m1\u001b[39m\n",
      "File \u001b[1;32mc:\\Users\\mauri\\OneDrive\\Documentos\\Universidad\\2024a\\Metodos\\metodos git\\M-todos-num-ricos\\Tarea10_MN\\src\\funciones.py:34\u001b[0m, in \u001b[0;36mdescomposicion_LU\u001b[1;34m(A)\u001b[0m\n\u001b[0;32m     30\u001b[0m \u001b[38;5;28;01mfor\u001b[39;00m i \u001b[38;5;129;01min\u001b[39;00m \u001b[38;5;28mrange\u001b[39m(\u001b[38;5;241m0\u001b[39m, n):  \u001b[38;5;66;03m# loop por columna\u001b[39;00m\n\u001b[0;32m     31\u001b[0m \n\u001b[0;32m     32\u001b[0m     \u001b[38;5;66;03m# --- deterimnar pivote\u001b[39;00m\n\u001b[0;32m     33\u001b[0m     \u001b[38;5;28;01mif\u001b[39;00m A[i, i] \u001b[38;5;241m==\u001b[39m \u001b[38;5;241m0\u001b[39m:\n\u001b[1;32m---> 34\u001b[0m         \u001b[38;5;28;01mraise\u001b[39;00m \u001b[38;5;167;01mValueError\u001b[39;00m(\u001b[38;5;124m\"\u001b[39m\u001b[38;5;124mNo existe solución única.\u001b[39m\u001b[38;5;124m\"\u001b[39m)\n\u001b[0;32m     36\u001b[0m     \u001b[38;5;66;03m# --- Eliminación: loop por fila\u001b[39;00m\n\u001b[0;32m     37\u001b[0m     L[i, i] \u001b[38;5;241m=\u001b[39m \u001b[38;5;241m1\u001b[39m\n",
      "\u001b[1;31mValueError\u001b[0m: No existe solución única."
     ]
    }
   ],
   "source": [
    "# matriz singular aquella que su determinante es 0\n",
    "from src import calc_determinante\n",
    "\n",
    "A = [\n",
    "    [4,2,6],\n",
    "    [3,0,7],\n",
    "    [-2,-1,-3]\n",
    "]\n",
    "\n",
    "calc_determinante(A)"
   ]
  },
  {
   "cell_type": "markdown",
   "metadata": {},
   "source": [
    "Dado que menciona que no posee solución única es indicativo que su determinante es 0, por lo tanto no existe inversa de dicha matriz."
   ]
  },
  {
   "cell_type": "code",
   "execution_count": 15,
   "metadata": {},
   "outputs": [
    {
     "name": "stdout",
     "output_type": "stream",
     "text": [
      "la determinante es: -8.0\n",
      "[[-0.25   0.25   0.25 ]\n",
      " [ 0.625 -0.125 -0.125]\n",
      " [ 0.125 -0.625  0.375]]\n"
     ]
    }
   ],
   "source": [
    "B=[\n",
    "    [1,2,0],\n",
    "    [2,1,-1],\n",
    "    [3,1,1]\n",
    "]\n",
    "\n",
    "print(f'la determinante es: {calc_determinante(B)}')\n",
    "inv_B = np.linalg.inv(np.array(B))\n",
    "print(inv_B)"
   ]
  },
  {
   "cell_type": "code",
   "execution_count": 16,
   "metadata": {},
   "outputs": [
    {
     "ename": "ValueError",
     "evalue": "No existe solución única.",
     "output_type": "error",
     "traceback": [
      "\u001b[1;31m---------------------------------------------------------------------------\u001b[0m",
      "\u001b[1;31mValueError\u001b[0m                                Traceback (most recent call last)",
      "Cell \u001b[1;32mIn[16], line 8\u001b[0m\n\u001b[0;32m      1\u001b[0m C\u001b[38;5;241m=\u001b[39m[\n\u001b[0;32m      2\u001b[0m     [\u001b[38;5;241m1\u001b[39m,\u001b[38;5;241m1\u001b[39m,\u001b[38;5;241m-\u001b[39m\u001b[38;5;241m1\u001b[39m,\u001b[38;5;241m1\u001b[39m],\n\u001b[0;32m      3\u001b[0m     [\u001b[38;5;241m1\u001b[39m,\u001b[38;5;241m2\u001b[39m,\u001b[38;5;241m-\u001b[39m\u001b[38;5;241m4\u001b[39m,\u001b[38;5;241m-\u001b[39m\u001b[38;5;241m2\u001b[39m],\n\u001b[0;32m      4\u001b[0m     [\u001b[38;5;241m2\u001b[39m,\u001b[38;5;241m1\u001b[39m,\u001b[38;5;241m1\u001b[39m,\u001b[38;5;241m5\u001b[39m],\n\u001b[0;32m      5\u001b[0m     [\u001b[38;5;241m-\u001b[39m\u001b[38;5;241m1\u001b[39m,\u001b[38;5;241m0\u001b[39m,\u001b[38;5;241m-\u001b[39m\u001b[38;5;241m2\u001b[39m,\u001b[38;5;241m-\u001b[39m\u001b[38;5;241m4\u001b[39m]\n\u001b[0;32m      6\u001b[0m ]\n\u001b[1;32m----> 8\u001b[0m \u001b[38;5;28mprint\u001b[39m(\u001b[38;5;124mf\u001b[39m\u001b[38;5;124m'\u001b[39m\u001b[38;5;124mla determinante es: \u001b[39m\u001b[38;5;132;01m{\u001b[39;00m\u001b[43mcalc_determinante\u001b[49m\u001b[43m(\u001b[49m\u001b[43mC\u001b[49m\u001b[43m)\u001b[49m\u001b[38;5;132;01m}\u001b[39;00m\u001b[38;5;124m'\u001b[39m)\n\u001b[0;32m      9\u001b[0m inv_B \u001b[38;5;241m=\u001b[39m np\u001b[38;5;241m.\u001b[39mlinalg\u001b[38;5;241m.\u001b[39minv(np\u001b[38;5;241m.\u001b[39marray(B))\n",
      "File \u001b[1;32mc:\\Users\\mauri\\OneDrive\\Documentos\\Universidad\\2024a\\Metodos\\metodos git\\M-todos-num-ricos\\Tarea10_MN\\src\\funciones.py:160\u001b[0m, in \u001b[0;36mcalc_determinante\u001b[1;34m(A)\u001b[0m\n\u001b[0;32m    149\u001b[0m \u001b[38;5;250m\u001b[39m\u001b[38;5;124;03m\"\"\"Función que calcula el determinante usando el método\u001b[39;00m\n\u001b[0;32m    150\u001b[0m \u001b[38;5;124;03m[Descomposición LU, eliminación gaussiana, Gauss-Jordan, Gauss-Jacobi o Gauss-Seidel]\u001b[39;00m\n\u001b[0;32m    151\u001b[0m \n\u001b[1;32m   (...)\u001b[0m\n\u001b[0;32m    157\u001b[0m \n\u001b[0;32m    158\u001b[0m \u001b[38;5;124;03m\"\"\"\u001b[39;00m\n\u001b[0;32m    159\u001b[0m     \u001b[38;5;66;03m# Descomposición LU\u001b[39;00m\n\u001b[1;32m--> 160\u001b[0m L, U \u001b[38;5;241m=\u001b[39m \u001b[43mdescomposicion_LU\u001b[49m\u001b[43m(\u001b[49m\u001b[43mA\u001b[49m\u001b[43m)\u001b[49m\n\u001b[0;32m    162\u001b[0m \u001b[38;5;66;03m# El determinante es el producto de los elementos diagonales de U\u001b[39;00m\n\u001b[0;32m    163\u001b[0m det_U \u001b[38;5;241m=\u001b[39m \u001b[38;5;241m1\u001b[39m\n",
      "File \u001b[1;32mc:\\Users\\mauri\\OneDrive\\Documentos\\Universidad\\2024a\\Metodos\\metodos git\\M-todos-num-ricos\\Tarea10_MN\\src\\funciones.py:34\u001b[0m, in \u001b[0;36mdescomposicion_LU\u001b[1;34m(A)\u001b[0m\n\u001b[0;32m     30\u001b[0m \u001b[38;5;28;01mfor\u001b[39;00m i \u001b[38;5;129;01min\u001b[39;00m \u001b[38;5;28mrange\u001b[39m(\u001b[38;5;241m0\u001b[39m, n):  \u001b[38;5;66;03m# loop por columna\u001b[39;00m\n\u001b[0;32m     31\u001b[0m \n\u001b[0;32m     32\u001b[0m     \u001b[38;5;66;03m# --- deterimnar pivote\u001b[39;00m\n\u001b[0;32m     33\u001b[0m     \u001b[38;5;28;01mif\u001b[39;00m A[i, i] \u001b[38;5;241m==\u001b[39m \u001b[38;5;241m0\u001b[39m:\n\u001b[1;32m---> 34\u001b[0m         \u001b[38;5;28;01mraise\u001b[39;00m \u001b[38;5;167;01mValueError\u001b[39;00m(\u001b[38;5;124m\"\u001b[39m\u001b[38;5;124mNo existe solución única.\u001b[39m\u001b[38;5;124m\"\u001b[39m)\n\u001b[0;32m     36\u001b[0m     \u001b[38;5;66;03m# --- Eliminación: loop por fila\u001b[39;00m\n\u001b[0;32m     37\u001b[0m     L[i, i] \u001b[38;5;241m=\u001b[39m \u001b[38;5;241m1\u001b[39m\n",
      "\u001b[1;31mValueError\u001b[0m: No existe solución única."
     ]
    }
   ],
   "source": [
    "C=[\n",
    "    [1,1,-1,1],\n",
    "    [1,2,-4,-2],\n",
    "    [2,1,1,5],\n",
    "    [-1,0,-2,-4]\n",
    "]\n",
    "\n",
    "print(f'la determinante es: {calc_determinante(C)}')"
   ]
  },
  {
   "cell_type": "code",
   "execution_count": 18,
   "metadata": {},
   "outputs": [
    {
     "name": "stdout",
     "output_type": "stream",
     "text": [
      "la determinante es: 28.0\n",
      "[[ 2.50000000e-01  6.16790569e-18  0.00000000e+00  0.00000000e+00]\n",
      " [-2.14285714e-01  1.42857143e-01 -0.00000000e+00 -0.00000000e+00]\n",
      " [ 1.07142857e-01 -1.57142857e+00  1.00000000e+00 -0.00000000e+00]\n",
      " [-5.00000000e-01  1.00000000e+00 -1.00000000e+00  1.00000000e+00]]\n"
     ]
    }
   ],
   "source": [
    "D = [\n",
    "    [4, 0, 0, 0],\n",
    "    [6, 7, 0, 0],\n",
    "    [9, 11, 1, 0],\n",
    "    [5, 4, 1, 1]\n",
    "]\n",
    "print(f'la determinante es: {calc_determinante(D)}')\n",
    "inv_D = np.linalg.inv(np.array(D))\n",
    "print(inv_D)"
   ]
  },
  {
   "cell_type": "markdown",
   "metadata": {},
   "source": [
    "3. Resuelva\n",
    "\n",
    "$x_1 - x_2 + 2x_3 - x_4 = 6, x_1-x_3+x_4=4,2x_1+x_2+3x_3-4x_4=-2,-x_2+x_3-x_4=5$"
   ]
  },
  {
   "cell_type": "markdown",
   "metadata": {},
   "source": [
    "$x_1 - x_2 + 2x_3 - x_4 = 1, x_1-x_3+x_4=1,2x_1+x_2+3x_3-4x_4=2,-x_2+x_3-x_4=1$"
   ]
  },
  {
   "cell_type": "code",
   "execution_count": 2,
   "metadata": {},
   "outputs": [
    {
     "name": "stdout",
     "output_type": "stream",
     "text": [
      "La primera respuesta es = [[ 2.]\n",
      " [-7.]\n",
      " [-1.]\n",
      " [ 1.]]\n",
      "La primera respuesta es = [[ 2.]\n",
      " [ 2.]\n",
      " [ 0.]\n",
      " [-1.]]\n"
     ]
    }
   ],
   "source": [
    "from src import descomposicion_LU, resolver_LU\n",
    "A = [\n",
    "    [1,-1,2,-1],\n",
    "    [1,0,-1,1],\n",
    "    [2,1,3,4],\n",
    "    [0,-1,1,-1]\n",
    "]\n",
    "\n",
    "L,U = descomposicion_LU(A)\n",
    "\n",
    "b1 = [6,4,-2,5]\n",
    "b2 = [1,1,2,-1]\n",
    "\n",
    "answer_one = resolver_LU(L=L, U=U, b=b1)\n",
    "answer_two = resolver_LU(L=L, U=U, b=b2)\n",
    "\n",
    "print(f'La primera respuesta es = {answer_one}')\n",
    "print(f'La primera respuesta es = {answer_two}')"
   ]
  },
  {
   "cell_type": "markdown",
   "metadata": {},
   "source": [
    "4. Encuentre los valores de A que hacen que la siguiente matriz sea singular.\n",
    "$$\n",
    "\\begin{matrix}\n",
    "1 & -1 & \\alpha \\\\\n",
    "2 & 2 & 1 \\\\\n",
    "0 & \\alpha & -\\frac{3}{2}\n",
    "\\end{matrix}\n",
    "$$"
   ]
  },
  {
   "cell_type": "markdown",
   "metadata": {},
   "source": [
    "![Pregunta 4](images/image.jpeg)"
   ]
  },
  {
   "cell_type": "markdown",
   "metadata": {},
   "source": [
    "5. Resuelva los siguientes sistemas lineales"
   ]
  },
  {
   "cell_type": "code",
   "execution_count": 6,
   "metadata": {},
   "outputs": [
    {
     "name": "stdout",
     "output_type": "stream",
     "text": [
      "[[-3.]\n",
      " [ 3.]\n",
      " [ 1.]]\n"
     ]
    }
   ],
   "source": [
    "L = [\n",
    "    [1, 0, 0],\n",
    "    [2, 1, 0],\n",
    "    [-1, 0, 1]\n",
    "]\n",
    "\n",
    "U = [\n",
    "    [2,3,-1],\n",
    "    [0,-2,1],\n",
    "    [0,0,3]\n",
    "]\n",
    "\n",
    "b = [2, -1, 1]\n",
    "\n",
    "print(resolver_LU(L=np.array(L),U=np.array(U),b=b))"
   ]
  },
  {
   "cell_type": "code",
   "execution_count": 7,
   "metadata": {},
   "outputs": [
    {
     "name": "stdout",
     "output_type": "stream",
     "text": [
      "[[ 0.5]\n",
      " [-4.5]\n",
      " [ 3.5]]\n"
     ]
    }
   ],
   "source": [
    "L = [\n",
    "    [2, 0, 0],\n",
    "    [-1, 1, 0],\n",
    "    [3, 2, -1]\n",
    "]\n",
    "\n",
    "U = [\n",
    "    [1,1,1],\n",
    "    [0,1,2],\n",
    "    [0,0,1]\n",
    "]\n",
    "\n",
    "b = [-1, 3, 0]\n",
    "\n",
    "print(resolver_LU(L=np.array(L),U=np.array(U),b=b))"
   ]
  },
  {
   "cell_type": "code",
   "execution_count": null,
   "metadata": {},
   "outputs": [],
   "source": []
  }
 ],
 "metadata": {
  "kernelspec": {
   "display_name": "Python 3 (ipykernel)",
   "language": "python",
   "name": "python3"
  },
  "language_info": {
   "codemirror_mode": {
    "name": "ipython",
    "version": 3
   },
   "file_extension": ".py",
   "mimetype": "text/x-python",
   "name": "python",
   "nbconvert_exporter": "python",
   "pygments_lexer": "ipython3",
   "version": "3.12.3"
  }
 },
 "nbformat": 4,
 "nbformat_minor": 4
}
