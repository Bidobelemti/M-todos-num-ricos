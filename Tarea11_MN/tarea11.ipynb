{
 "cells": [
  {
   "cell_type": "markdown",
   "metadata": {},
   "source": [
    "Métodos numéricos\n",
    "\n",
    "Estudiante: Bryan Morales"
   ]
  },
  {
   "cell_type": "code",
   "execution_count": 2,
   "metadata": {},
   "outputs": [],
   "source": [
    "import numpy as np\n",
    "from src import gauss_jacobi, gauss_seidel"
   ]
  },
  {
   "cell_type": "markdown",
   "metadata": {},
   "source": [
    "1. Encuentre las primeras dos iteraciones del método de Jacobi para los siguientes sistemas lineales, por medio de $x^{(0)} = 0$"
   ]
  },
  {
   "cell_type": "markdown",
   "metadata": {},
   "source": [
    "a. $3x_1 - x_2 + x_3 = 1$,\n",
    "\n",
    "$3x_1+6x_2+2x_3 =0$,\n",
    "\n",
    "$3x_1+3x_2+7x_3 = 4$"
   ]
  },
  {
   "cell_type": "code",
   "execution_count": 17,
   "metadata": {},
   "outputs": [
    {
     "name": "stdout",
     "output_type": "stream",
     "text": [
      "(array([[ 0.03509079],\n",
      "       [-0.23680635],\n",
      "       [ 0.65793476]]), 11)\n"
     ]
    }
   ],
   "source": [
    "A1 =np.array( [\n",
    "    [3,-1,1],\n",
    "    [3,6,2],\n",
    "    [3,3,7.]\n",
    "])\n",
    "\n",
    "B1 = np.array(\n",
    "    [\n",
    "        [1],\n",
    "        [0],\n",
    "        [4.]\n",
    "    ]\n",
    ")\n",
    "\n",
    "print(gauss_jacobi(A=A1, b=B1, error=1e-3, max_iter=100))"
   ]
  },
  {
   "cell_type": "markdown",
   "metadata": {},
   "source": [
    "b. $10x_1 - x_2 = 9$,\n",
    "\n",
    "$-x_1+10x_2-2x_3 =7$,\n",
    "\n",
    "$-2x_2+10x_3 = 6$"
   ]
  },
  {
   "cell_type": "code",
   "execution_count": 18,
   "metadata": {},
   "outputs": [
    {
     "name": "stdout",
     "output_type": "stream",
     "text": [
      "(array([[0.995917],\n",
      "       [0.959391],\n",
      "       [0.799158]]), 6)\n"
     ]
    }
   ],
   "source": [
    "A2 = np.array(\n",
    "    [\n",
    "        [10,-1,0],\n",
    "        [-1,10,-2],\n",
    "        [-2,0,10]\n",
    "    ]\n",
    ")\n",
    "B2 = np.array(\n",
    "    [\n",
    "        [9],\n",
    "        [7],\n",
    "        [6]\n",
    "    ]\n",
    ")\n",
    "print(gauss_jacobi(A=A2, b=B2, error=1e-3, max_iter=100))"
   ]
  },
  {
   "cell_type": "markdown",
   "metadata": {},
   "source": []
  },
  {
   "cell_type": "markdown",
   "metadata": {},
   "source": [
    "c. $10x_1 +5 x_2  = 6$,\n",
    "\n",
    "$5x_1+10x_2-4x_3 =25$,\n",
    "\n",
    "$-4x_2+8x_3-x_4 = -11$,\n",
    "\n",
    "$-x_3+5x_4 = -11$"
   ]
  },
  {
   "cell_type": "code",
   "execution_count": 19,
   "metadata": {},
   "outputs": [
    {
     "name": "stdout",
     "output_type": "stream",
     "text": [
      "(array([[-0.79759387],\n",
      "       [ 2.79528199],\n",
      "       [-0.25887976],\n",
      "       [-2.25176749]]), 27)\n"
     ]
    }
   ],
   "source": [
    "A3 = np.array(\n",
    "    [\n",
    "        [10,5,0,0],\n",
    "        [5,10,-4,0],\n",
    "        [0,-4,8,-1],\n",
    "        [0,0,-1,5]\n",
    "    ]\n",
    ")\n",
    "B3 = np.array(\n",
    "    [\n",
    "        [6],\n",
    "        [25],\n",
    "        [-11],\n",
    "        [-11]\n",
    "    ]\n",
    ")\n",
    "print(gauss_jacobi(A=A3, b=B3, error=1e-3, max_iter=100))"
   ]
  },
  {
   "cell_type": "markdown",
   "metadata": {},
   "source": [
    "4. $4x_1 + x_2 + x_3 + x_5  = 6$,\n",
    "\n",
    "$-x_1-3x_2+x_3+x_4 =6$,\n",
    "\n",
    "$2x_1+x_2+5x_3-x_4-x_5 = 6$,\n",
    "\n",
    "$-x_1-x_2-x_3+4x_4 = 6$,\n",
    "\n",
    "$2x_2-x_3+x_4+4x_5 = 6$"
   ]
  },
  {
   "cell_type": "code",
   "execution_count": 20,
   "metadata": {},
   "outputs": [
    {
     "name": "stdout",
     "output_type": "stream",
     "text": [
      "(array([[ 0.78669256],\n",
      "       [-1.00271775],\n",
      "       [ 1.8663196 ],\n",
      "       [ 1.9125416 ],\n",
      "       [ 1.98984447]]), 14)\n"
     ]
    }
   ],
   "source": [
    "A4 = np.array(\n",
    "    [\n",
    "        [4,1,1,0,1],\n",
    "        [-1,-3,1,1,0],\n",
    "        [2,1,5,-1,-1],\n",
    "        [-1,-1,-1,4,0],\n",
    "        [0,2,-1,1,4]\n",
    "    ]\n",
    ")\n",
    "B4 = np.array(\n",
    "    [\n",
    "        [6],\n",
    "        [6],\n",
    "        [6],\n",
    "        [6],\n",
    "        [6]\n",
    "    ]\n",
    ")\n",
    "print(gauss_jacobi(A=A4, b=B4, error=1e-3, max_iter=100))"
   ]
  },
  {
   "cell_type": "markdown",
   "metadata": {},
   "source": [
    "2. Ahora usando Gaus - Seidel"
   ]
  },
  {
   "cell_type": "markdown",
   "metadata": {},
   "source": [
    "1. "
   ]
  },
  {
   "cell_type": "code",
   "execution_count": 21,
   "metadata": {},
   "outputs": [
    {
     "name": "stdout",
     "output_type": "stream",
     "text": [
      "(array([ 0.03508772, -0.23684211,  0.65789474]), 100)\n"
     ]
    }
   ],
   "source": [
    "print(gauss_seidel(A=A1, b=B1, error=1e-3, max_iter=100))"
   ]
  },
  {
   "cell_type": "markdown",
   "metadata": {},
   "source": [
    "2."
   ]
  },
  {
   "cell_type": "code",
   "execution_count": 22,
   "metadata": {},
   "outputs": [
    {
     "name": "stdout",
     "output_type": "stream",
     "text": [
      "(array([0.9959432 , 0.95943205, 0.79918864]), 100)\n"
     ]
    }
   ],
   "source": [
    "print(gauss_seidel(A=A2, b=B2, error=1e-3, max_iter=100))"
   ]
  },
  {
   "cell_type": "markdown",
   "metadata": {},
   "source": [
    "3."
   ]
  },
  {
   "cell_type": "code",
   "execution_count": 23,
   "metadata": {},
   "outputs": [
    {
     "name": "stdout",
     "output_type": "stream",
     "text": [
      "(array([-0.79764706,  2.79529412, -0.25882353, -2.25176471]), 100)\n"
     ]
    }
   ],
   "source": [
    "print(gauss_seidel(A=A3, b=B3, error=1e-3, max_iter=100))"
   ]
  },
  {
   "cell_type": "markdown",
   "metadata": {},
   "source": [
    "4."
   ]
  },
  {
   "cell_type": "code",
   "execution_count": 50,
   "metadata": {},
   "outputs": [
    {
     "name": "stdout",
     "output_type": "stream",
     "text": [
      "(array([ 0.78668253, -1.00271872,  1.86628339,  1.9125618 ,  1.98978976]), 7)\n"
     ]
    }
   ],
   "source": [
    "print(gauss_seidel(A=A4, b=B4, error=1e-3, max_iter=100))"
   ]
  },
  {
   "cell_type": "markdown",
   "metadata": {},
   "source": [
    "3. Usando el método de Jacobi para resolver el ejercicio 1 con una TOL = 1e-3"
   ]
  },
  {
   "cell_type": "markdown",
   "metadata": {},
   "source": [
    "4. Usando el método de Gauss-Siedel para resolver el ejercicio 1 con una TOL = 1e-3"
   ]
  },
  {
   "cell_type": "markdown",
   "metadata": {},
   "source": [
    "Notese que cada una de las implementaciones anteriores se resolvienron solicitando la TOL = 1e-3"
   ]
  },
  {
   "cell_type": "markdown",
   "metadata": {},
   "source": [
    "5. El sistema lineal"
   ]
  },
  {
   "cell_type": "markdown",
   "metadata": {},
   "source": [
    "$2x_1-x_2+x_3 = -1$,\n",
    "\n",
    "$2x_1+2x_2+2x_3 = 4$,\n",
    "\n",
    "$-x_1-x_2+2x_3 = -5$"
   ]
  },
  {
   "cell_type": "markdown",
   "metadata": {},
   "source": [
    "tiene la solución (1,2,-1)"
   ]
  },
  {
   "cell_type": "markdown",
   "metadata": {},
   "source": [
    "a. Muestre que el método de Jacobi con $x_{(0)}=0$ falla al proporcionar una buena aproximación despues de 25 iteraciones"
   ]
  },
  {
   "cell_type": "code",
   "execution_count": 54,
   "metadata": {},
   "outputs": [
    {
     "data": {
      "text/plain": [
       "(array([ 1.00000063,  1.99999931, -1.00000003]), 25)"
      ]
     },
     "execution_count": 54,
     "metadata": {},
     "output_type": "execute_result"
    }
   ],
   "source": [
    "A5 = np.array(\n",
    "    [\n",
    "        [2,-1,1],\n",
    "        [2,2,2],\n",
    "        [-1,-1,2]\n",
    "    ]\n",
    ")\n",
    "B5 = np.array(\n",
    "    [\n",
    "        [-1],\n",
    "        [4],\n",
    "        [-5]\n",
    "    ]\n",
    ")\n",
    "#print(gauss_jacobi(A=A5, b=B5, max_iter=25, error=1e-7))\n",
    "gauss_seidel(A=A5, b=B5, max_iter=25, error=1e-7)\n"
   ]
  },
  {
   "cell_type": "code",
   "execution_count": null,
   "metadata": {},
   "outputs": [],
   "source": []
  }
 ],
 "metadata": {
  "kernelspec": {
   "display_name": "Python 3",
   "language": "python",
   "name": "python3"
  },
  "language_info": {
   "codemirror_mode": {
    "name": "ipython",
    "version": 3
   },
   "file_extension": ".py",
   "mimetype": "text/x-python",
   "name": "python",
   "nbconvert_exporter": "python",
   "pygments_lexer": "ipython3",
   "version": "3.12.4"
  }
 },
 "nbformat": 4,
 "nbformat_minor": 2
}
