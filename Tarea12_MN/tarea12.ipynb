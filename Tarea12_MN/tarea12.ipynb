{
 "cells": [
  {
   "cell_type": "markdown",
   "metadata": {},
   "source": [
    "Métodos numéricos\n",
    "\n",
    "Estudiante: Bryan Morales"
   ]
  },
  {
   "cell_type": "code",
   "execution_count": 5,
   "metadata": {},
   "outputs": [],
   "source": [
    "from src import ODE_euler\n",
    "import math\n",
    "import numpy as np\n",
    "import matplotlib.pyplot as plt"
   ]
  },
  {
   "cell_type": "markdown",
   "metadata": {},
   "source": [
    "1. Use el método de Euler para aproximar las soluciones para cada uno de los problemas de valor inicial"
   ]
  },
  {
   "cell_type": "markdown",
   "metadata": {},
   "source": [
    "a. $y´ = te^{3t}-2y, 0\\leq t \\leq 1 , y(0)=0$ con $h=0,5$"
   ]
  },
  {
   "cell_type": "code",
   "execution_count": 12,
   "metadata": {},
   "outputs": [
    {
     "name": "stdout",
     "output_type": "stream",
     "text": [
      "Metodo de euler [0, 0.0, 0.013498588075760033, 0.04724124646841821, 0.11158109050944308, 0.2220695493170164, 0.4017400929705164, 0.6843709222411898, 1.1191286316726872, 1.7771570157894776, 2.7609014678701365] \n",
      "valores reales [0.         0.00721861 0.03430381 0.0930242  0.2019127  0.38966479\n",
      " 0.70018912 1.20008164 1.98964675 3.21909932]\n",
      "error relativo  = 0.346%\n"
     ]
    }
   ],
   "source": [
    "f = lambda t, y:t*math.e**(3*t) -2 *y\n",
    "y_t0 = 0\n",
    "\n",
    "a = 0\n",
    "b = 1\n",
    "\n",
    "ys,ts, h = ODE_euler(a=a, b=b, y_t0=y_t0, f=f, N=10)\n",
    "\n",
    "f_real = lambda t: (1/5) * t * math.e ** (3*t) - (1/25) * math.e ** (3*t) + (1/25) * math.e **(-2*t)\n",
    "x = np.linspace(0,1,10)\n",
    "y_real = f_real(x)\n",
    "print(f\"Metodo de euler {ys} \\nvalores reales {y_real}\")\n",
    "error = 0\n",
    "for i in range(10):\n",
    "    error += abs(ys[i]-y_real[i])\n",
    "print(f\"error relativo  = {error/10:.3f}%\")\n",
    "\n",
    "plt.plot(ts, ys, marker=\"o\", linestyle=\":\", label=\"Método de Euler\")\n",
    "plt.plot(\n",
    "    ts_nth, ys_nth, marker=\"o\", linestyle=\":\", label=\"Método de Taylor de 2do orden\"\n",
    ")\n",
    "plt.plot(\n",
    "    x_vals, f(x_vals), linestyle=\":\", label=\"Método\"\n",
    ")\n",
    "plt.xlabel(\"Tiempo\")\n",
    "plt.ylabel(\"Y\")\n",
    "plt.title(\"Comparación de métodos\")\n",
    "plt.legend()\n",
    "plt.show()"
   ]
  },
  {
   "cell_type": "markdown",
   "metadata": {},
   "source": [
    "b. $y´=1+(t-y)^2 , 2 \\leq t \\leq 3 , y(2)=1$ con $h = 0,5$"
   ]
  },
  {
   "cell_type": "code",
   "execution_count": 13,
   "metadata": {},
   "outputs": [
    {
     "name": "stdout",
     "output_type": "stream",
     "text": [
      "Metodo de euler [1, 1.2, 1.381, 1.5480761, 1.704615055139121, 1.852971077293038, 1.9948357199749711, 2.1314581005567925, 2.2637820896990415, 2.3925350544317943, 2.5182871215298483]  valores reales [1.         1.21111111 1.4040404  1.58333333 1.75213675 1.91269841\n",
      " 2.06666667 2.21527778 2.35947712 2.5       ]\n",
      "error relativo  = 0.054%\n"
     ]
    }
   ],
   "source": [
    "f = lambda t, y:1 + (t - y)**2\n",
    "y_t0 = 1\n",
    "\n",
    "a = 2\n",
    "b = 3\n",
    "\n",
    "ys,ts, h = ODE_euler(a=a, b=b, y_t0=y_t0, f=f, N=10)\n",
    "\n",
    "f_real = lambda t: t + 1 / (1 - t)\n",
    "x = np.linspace(a,b,10)\n",
    "y_real = f_real(x)\n",
    "print(f\"Metodo de euler {ys}  valores reales {y_real}\")\n",
    "error = 0\n",
    "for i in range(10):\n",
    "    error += abs(ys[i]-y_real[i])\n",
    "print(f\"error relativo  = {error/10:.3f}%\")"
   ]
  },
  {
   "cell_type": "markdown",
   "metadata": {},
   "source": [
    "c. $y´=1 + \\frac{y}{t}, 1 \\leq t \\leq 2 , y(1) = 2$ con $h = 0,25$"
   ]
  },
  {
   "cell_type": "code",
   "execution_count": 15,
   "metadata": {},
   "outputs": [
    {
     "name": "stdout",
     "output_type": "stream",
     "text": [
      "Metodo de euler [2, 2.3, 2.609090909090909, 2.9265151515151513, 3.2516317016317013, 3.5838911088911085, 3.9228171828171825, 4.267993256743257, 4.619051683610507, 4.975665666033312, 5.337542806350855]  valores reales [2.         2.33928946 2.68970863 3.05024276 3.4200469  3.7984065\n",
      " 4.18470937 4.57842515 4.97908989 5.38629436]\n",
      "error relativo  = 0.197%\n"
     ]
    }
   ],
   "source": [
    "f = lambda t, y:1 + y/t\n",
    "y_t0 = 2\n",
    "\n",
    "a = 1\n",
    "b = 2\n",
    "\n",
    "ys,ts, h = ODE_euler(a=a, b=b, y_t0=y_t0, f=f, N=10)\n",
    "\n",
    "f_real = lambda t: t * np.log(t) + 2 * t\n",
    "x = np.linspace(a,b,10)\n",
    "y_real = f_real(x)\n",
    "print(f\"Metodo de euler {ys}  valores reales {y_real}\")\n",
    "error = 0\n",
    "for i in range(10):\n",
    "    error += abs(ys[i]-y_real[i])\n",
    "print(f\"error relativo  = {error/10:.3f}%\")"
   ]
  },
  {
   "cell_type": "markdown",
   "metadata": {},
   "source": [
    "d. $y´=cos 2t + sen 3t , 0 \\leq t \\leq 1 , y(0) = 1$ con $h = 0,25$"
   ]
  },
  {
   "cell_type": "code",
   "execution_count": 17,
   "metadata": {},
   "outputs": [
    {
     "name": "stdout",
     "output_type": "stream",
     "text": [
      "Metodo de euler [1, 1.1, 1.2275586784502581, 1.3761290251900502, 1.5369952776437663, 1.6998698571752056, 1.853649586422425, 1.9872701249579119, 2.0905877759128235, 2.15521414173781, 2.175231920291884]  valores reales [1.         1.12854656 1.28634909 1.46241747 1.64310677 1.81333728\n",
      " 1.9580179  2.06352798 2.11910337 2.11797955]\n",
      "error relativo  = 0.064%\n"
     ]
    }
   ],
   "source": [
    "f = lambda t, y:math.cos(2 * t) + math.sin(3 * t)\n",
    "y_t0 = 1\n",
    "\n",
    "a = 0\n",
    "b = 1\n",
    "\n",
    "ys,ts, h = ODE_euler(a=a, b=b, y_t0=y_t0, f=f, N=10)\n",
    "\n",
    "f_real = lambda t: (1/2) * np.sin(2 * t) - (1/3) * np.cos(3 * t) + (4/3)\n",
    "x = np.linspace(0,1,10)\n",
    "y_real = f_real(x)\n",
    "print(f\"Metodo de euler {ys}  valores reales {y_real}\")\n",
    "error = 0\n",
    "for i in range(10):\n",
    "    error += abs(ys[i]-y_real[i])\n",
    "print(f\"error relativo  = {error/10:.3f}%\")"
   ]
  },
  {
   "cell_type": "markdown",
   "metadata": {},
   "source": [
    "2. Las soluciones reales para los problemas de valor inical se proporcionan a continuación.\n",
    "\n",
    "\n",
    "Nota: la solucion de este problema esta reflejado en el paso anterior"
   ]
  },
  {
   "cell_type": "code",
   "execution_count": null,
   "metadata": {},
   "outputs": [],
   "source": []
  }
 ],
 "metadata": {
  "kernelspec": {
   "display_name": "Python 3",
   "language": "python",
   "name": "python3"
  },
  "language_info": {
   "codemirror_mode": {
    "name": "ipython",
    "version": 3
   },
   "file_extension": ".py",
   "mimetype": "text/x-python",
   "name": "python",
   "nbconvert_exporter": "python",
   "pygments_lexer": "ipython3",
   "version": "3.12.5"
  }
 },
 "nbformat": 4,
 "nbformat_minor": 2
}
